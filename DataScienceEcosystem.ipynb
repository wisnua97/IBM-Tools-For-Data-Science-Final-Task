{
 "cells": [
  {
   "cell_type": "markdown",
   "id": "97e8414f",
   "metadata": {},
   "source": [
    "# DATA SCIENCE TOOLS AND ECOSYSTEM"
   ]
  },
  {
   "cell_type": "markdown",
   "id": "449618da",
   "metadata": {},
   "source": [
    "## A. Introduction\n",
    "\n",
    "Welcome to my Jupyter Notebook! In this notebook, we will explore various topics regarding Data Sciences and explain about Data science tools,languages, libraries and example of arithmethic expressions that would be used in world of Data sciences.Throughout this notebook, we will dive into various Data sciences tools,languages and libraries and explore their capabilities on each data or necessity. So, let's get started and unlock the potential of Data Sciences !"
   ]
  },
  {
   "cell_type": "markdown",
   "id": "09bd30d2",
   "metadata": {},
   "source": [
    "## B. Data Science Languages\n",
    "\n",
    "When it comes to data science, there are several programming languages that are widely used for various tasks, such as data manipulation, analysis, and machine learning. Here are some of the prominent languages in the field of data science:\n",
    "\n",
    "### 1.Python \n",
    "Python is one of the most popular languages for data science. It offers a wide range of libraries and frameworks, such as NumPy, Pandas, and scikit-learn, that facilitate data manipulation, analysis, and machine learning.\n",
    "\n",
    "### 2.R \n",
    "R is a language specifically designed for statistical computing and graphics. It provides a comprehensive ecosystem of packages for statistical analysis, data visualization, and machine learning.\n",
    "\n",
    "### 3.Julia \n",
    "Julia is a high-level, high-performance language for technical computing. It combines the ease of use of Python and the speed of languages like C and Fortran. Julia is gaining popularity in the data science community for its speed and expressiveness.\n",
    "\n",
    "### 4.SQL \n",
    "SQL (Structured Query Language) is essential for working with relational databases. It allows data scientists to efficiently retrieve, manipulate, and analyze data stored in databases.\n",
    "\n",
    "### 5.Scala \n",
    "Scala is a programming language that runs on the Java Virtual Machine (JVM) and is often used in big data processing. It is commonly used with Apache Spark for distributed data processing and machine learning tasks.\n",
    "\n",
    "These are just a few of the many languages used in data science. Each language has its own strengths and weaknesses, and the choice of language depends on the specific requirements of the project and the preferences of the data scientist."
   ]
  },
  {
   "cell_type": "markdown",
   "id": "481ea16a",
   "metadata": {},
   "source": [
    "## C.Data Science Libraries\n",
    "\n",
    "Data science libraries provide a wide range of tools and functions to simplify and enhance the data analysis and machine learning workflows. Here are some popular libraries used in data science:\n",
    "\n",
    "### 1.NumPy \n",
    "NumPy is a fundamental library for numerical computing in Python. It provides support for large, multi-dimensional arrays and matrices, along with a collection of mathematical functions to operate on these arrays efficiently.\n",
    "\n",
    "### 2.Pandas \n",
    "Pandas is a powerful library for data manipulation and analysis. It offers data structures such as DataFrames and Series, which enable efficient data cleaning, transformation, and exploration. Pandas also provides tools for handling missing data and merging datasets.\n",
    "\n",
    "### 3.Matplotlib \n",
    "Matplotlib is a plotting library that allows data scientists to create a wide range of visualizations, including line plots, scatter plots, histograms, and more. It provides a flexible API for customizing plots and is often used in combination with other libraries like NumPy and Pandas.\n",
    "\n",
    "### 4.Seaborn \n",
    "Seaborn is a high-level statistical visualization library built on top of Matplotlib. It provides a simplified interface for creating attractive and informative statistical graphics. Seaborn is particularly useful for exploring relationships between multiple variables in datasets.\n",
    "\n",
    "### 5.scikit-learn \n",
    "Scikit-learn is a comprehensive machine learning library in Python. It provides a wide range of algorithms for classification, regression, clustering, and dimensionality reduction, as well as tools for model evaluation, hyperparameter tuning, and feature selection.\n",
    "\n",
    "### 6.TensorFlow \n",
    "TensorFlow is an open-source library for machine learning and deep learning developed by Google. It offers a flexible ecosystem of tools and resources for building and training various types of neural networks.\n",
    "\n",
    "### 7.PyTorch \n",
    "PyTorch is another popular library for deep learning that provides dynamic computation graphs and a more intuitive programming interface. It is widely used for research and production-level deep learning projects.\n",
    "\n",
    "### 8.Keras \n",
    "Keras is a high-level neural networks API that runs on top of TensorFlow, Theano, or PyTorch. It simplifies the process of building and training deep learning models by providing a user-friendly and modular interface.\n",
    "\n",
    "These are just a few examples of the many libraries available for data science. Each library serves a specific purpose and offers different functionalities, allowing data scientists to perform complex data analysis and machine learning tasks efficiently."
   ]
  },
  {
   "cell_type": "markdown",
   "id": "1a78646c",
   "metadata": {},
   "source": [
    "## D. Data Science Tools\n",
    "Here are some popular data science tools and their key features:\n",
    "\n",
    "### 1.Jupyter: \n",
    "Jupyter is interactive notebook environment that allows combining code, visualizations, and documentation in a single interface.\n",
    "\n",
    "### 2.RStudio\n",
    "RStudio is integrated development environment (IDE) for R that provides tools for writing, executing, and debugging R code.\n",
    "\n",
    "### 3.Apache Spark  \n",
    "Apache Spark is an open-source big data processing framework that enables distributed data processing and analysis, with support for various languages.\n",
    "\n",
    "### 4.Tableau \n",
    "Tableau is a data visualization tool that allows users to create interactive and visually appealing dashboards and reports.\n",
    "\n",
    "### 5.KNIME\n",
    "KNIME is a data analytics platform that offers a visual interface for building data workflows and executing machine learning tasks.\n",
    "\n",
    "### 6.SAS\n",
    "SAS is a software suite used for advanced analytics, business intelligence, and data management, with a focus on enterprise-level applications.\n",
    "\n",
    "### 7.Excel\n",
    "Excel is a spreadsheet program with built-in functions and tools for data analysis and visualization, widely used for basic data manipulation.\n",
    "\n",
    "These tools serve different purposes and cater to various stages of the data science workflow. Data scientists often leverage a combination of these tools depending on their specific requirements and preferences."
   ]
  },
  {
   "cell_type": "markdown",
   "id": "2510b5ae",
   "metadata": {},
   "source": [
    "## E. Arithmetic Expression Examples\n",
    "\n",
    "Arithmetic expressions are mathematical expressions that involve mathematical operations such as addition, subtraction, multiplication, and division. These expressions are commonly used in programming and data analysis to perform calculations and manipulate numerical values.\n",
    "\n",
    "Here are some examples of arithmetic expressions:\n",
    "\n",
    "### 1.Addition\n",
    "Adding two numbers together.\n",
    "5 + 3\n",
    "Result: 8\n",
    "\n",
    "### 2.Subtraction\n",
    "Subtracting one number from another.\n",
    "10 - 4\n",
    "Result: 6\n",
    "\n",
    "### 3.Multiplication \n",
    "Multiplying two numbers.\n",
    "3 * 6\n",
    "Result: 18\n",
    "\n",
    "### 4.Division \n",
    "Dividing one number by another.\n",
    "15 / 3\n",
    "Result: 5\n",
    "\n",
    "### 5.Parentheses\n",
    "Using parentheses to specify the order of operations.\n",
    "(4 + 2) * 3\n",
    "Result: 18"
   ]
  },
  {
   "cell_type": "markdown",
   "id": "9fc4e65e",
   "metadata": {},
   "source": [
    "## F.Multiply And Add Numbers"
   ]
  },
  {
   "cell_type": "code",
   "execution_count": 3,
   "id": "ca71344f",
   "metadata": {},
   "outputs": [
    {
     "name": "stdout",
     "output_type": "stream",
     "text": [
      "Multiplication and Addition Result: 17\n"
     ]
    }
   ],
   "source": [
    "num1 = 5\n",
    "num2 = 3\n",
    "num3 = 4\n",
    "result_multiply_and_add = (num2 * num3) + num1\n",
    "\n",
    "print(\"Multiplication and Addition Result:\", result_multiply_and_add)\n"
   ]
  },
  {
   "cell_type": "markdown",
   "id": "0e1b1333",
   "metadata": {},
   "source": [
    "## G.Convert Minutes to Hour"
   ]
  },
  {
   "cell_type": "code",
   "execution_count": 4,
   "id": "c493129e",
   "metadata": {},
   "outputs": [
    {
     "name": "stdout",
     "output_type": "stream",
     "text": [
      "Hours: 3.3333333333333335\n"
     ]
    }
   ],
   "source": [
    "minutes = 200\n",
    "hours = minutes / 60\n",
    "\n",
    "# Print the result\n",
    "print(\"Hours:\", hours)"
   ]
  },
  {
   "cell_type": "markdown",
   "id": "9f8d0269",
   "metadata": {},
   "source": [
    "## E.Objectives\n",
    "In this notebook, we have the following objectives:\n",
    "\n",
    "### 1.Explore Data Science Languages\n",
    "We discuss and explore different programming languages commonly used in data science, such as Python, R, and SQL. We will understand their strengths and use cases.\n",
    "\n",
    "### 2.Learn Data Science Libraries \n",
    "We explore various libraries and frameworks used in data science, including NumPy, Pandas, Matplotlib, and scikit-learn. We will understand their functionalities and how to leverage them for data analysis and machine learning tasks.\n",
    "\n",
    "### 3. Discuss Data Science Tools\n",
    "We introduce and discuss popular tools and platforms used in data science, such as Jupyter, RStudio, Apache Spark, and Tableau. We will understand their roles in the data science workflow.\n",
    "\n",
    "### 4.Demonstrate Arithmetic Expressions \n",
    "We provide examples of arithmetic expressions, showcasing different mathematical operations and their use in data analysis and calculations.\n",
    "\n",
    "### 5.Perform Basic Calculations \n",
    "We Write code to perform basic calculations, such as multiplication and addition of numbers, to understand how arithmetic operations work in Python.\n",
    "\n",
    "### 6.Convert Units \n",
    "We write code to convert units, such as converting minutes to hours, to demonstrate how to perform simple conversions using Python.\n",
    "\n",
    "By achieving these objectives, we aim to enhance our understanding of Jupyter Notebooks, data science languages, libraries, tools, and basic arithmetic operations, setting the foundation for further exploration and analysis in the field of data science."
   ]
  },
  {
   "cell_type": "markdown",
   "id": "ac08b81a",
   "metadata": {},
   "source": [
    "## F.Author\n",
    "\n",
    "This notebook was created by Andreas Wisnu Nusantara."
   ]
  },
  {
   "cell_type": "code",
   "execution_count": null,
   "id": "022c33b7",
   "metadata": {},
   "outputs": [],
   "source": []
  }
 ],
 "metadata": {
  "kernelspec": {
   "display_name": "Python 3 (ipykernel)",
   "language": "python",
   "name": "python3"
  },
  "language_info": {
   "codemirror_mode": {
    "name": "ipython",
    "version": 3
   },
   "file_extension": ".py",
   "mimetype": "text/x-python",
   "name": "python",
   "nbconvert_exporter": "python",
   "pygments_lexer": "ipython3",
   "version": "3.9.13"
  }
 },
 "nbformat": 4,
 "nbformat_minor": 5
}
